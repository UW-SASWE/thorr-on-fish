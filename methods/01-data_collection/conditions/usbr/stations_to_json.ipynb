{
 "cells": [
  {
   "attachments": {},
   "cell_type": "markdown",
   "metadata": {},
   "source": [
    "# Compile the metadata for Hydromet stations in the Pacific North West  \n",
    "Convert the stations data from text (copied from the website) to accessible JSON."
   ]
  },
  {
   "cell_type": "code",
   "execution_count": 1,
   "metadata": {},
   "outputs": [],
   "source": [
    "import json"
   ]
  },
  {
   "cell_type": "code",
   "execution_count": 2,
   "metadata": {},
   "outputs": [],
   "source": [
    "# path to text file containing usbr_stations_pn_hydromet descriptions from https://www.usbr.gov/pn/hydromet/decod_params.html\n",
    "path = \"stations.txt\""
   ]
  },
  {
   "cell_type": "code",
   "execution_count": 3,
   "metadata": {},
   "outputs": [],
   "source": [
    "lines = open(path,\"r\").readlines()\n",
    "lines = [line.strip(\" \\n\") for line in lines]\n",
    "\n",
    "# open the stations.json file if it exists else create a new dictionary for the stations\n",
    "try:\n",
    "    with open(path.strip(\".txt\")+\".json\",\"r\") as f:\n",
    "        stations_dict = json.load(f)\n",
    "except:\n",
    "    stations_dict = {\"stations\":[]} # initialize the dictionary\n",
    "\n",
    "i = 0\n",
    "l = 20\n",
    "\n",
    "while i<len(lines):\n",
    "# for i in range(20):\n",
    "    # line = lines[i].strip(\" \\n\")\n",
    "    if lines[i].startswith(\"<A NAME=\"):\n",
    "        i += 1\n",
    "        station_name = lines[i][:4].strip(\" \")\n",
    "        station_description = lines[i][4:].strip(\" \")\n",
    "\n",
    "        stations_dict[\"stations\"].append(station_name.strip(\" \")) if station_name.strip(\" \") not in stations_dict[\"stations\"] else None\n",
    "\n",
    "        # add the station to the dictionary if it doesn't exist\n",
    "        if station_name not in stations_dict:\n",
    "            stations_dict[station_name] = {}\n",
    "        stations_dict[station_name][\"description\"] = station_description # add the station description to the dictionary\n",
    "        # add the parameters to the dictionary if they don't exist\n",
    "        if \"parameters\" not in stations_dict[station_name]:\n",
    "            stations_dict[station_name][\"parameters\"] = {}\n",
    "        \n",
    "        i += 1\n",
    "        satellite_id, sattellite_channel = [line.split(\"=\")[1].strip(\" \") for line in lines[i].split(\",\")] # get the satellite id and channel\n",
    "        stations_dict[station_name][\"satellite_id\"] = satellite_id # add the satellite id to the dictionary\n",
    "        stations_dict[station_name][\"sattellite_channel\"] = sattellite_channel # add the satellite channel to the dictionary\n",
    "        \n",
    "        i += 1\n",
    "        latitude, longitude, elevation = [line.split(\"=\")[1].strip(\" \") for line in lines[i].strip(\".\").split(\"  \")] # get the latitude, longitude, and elevation\n",
    "        # add the latitude, longitude, and elevation to the dictionary\n",
    "        stations_dict[station_name][\"latitude\"] = latitude\n",
    "        stations_dict[station_name][\"longitude\"] = longitude\n",
    "        stations_dict[station_name][\"elevation\"] = elevation\n",
    "\n",
    "        i += 1\n",
    "\n",
    "        while i < len(lines):\n",
    "            if lines[i]:\n",
    "                # get the parameter code and description\n",
    "                pcode = lines[i][:3].strip(\" \")\n",
    "                pcode_description = lines[i][3:].strip(\" \")\n",
    "                stations_dict[station_name][\"parameters\"][pcode] = pcode_description # add the parameter to the dictionary\n",
    "\n",
    "                i += 1\n",
    "            else:\n",
    "                i +=1 \n",
    "                break\n",
    "    else:\n",
    "        i += 1"
   ]
  },
  {
   "cell_type": "code",
   "execution_count": 4,
   "metadata": {},
   "outputs": [],
   "source": [
    "# convert stations dictionary to json file for future use\n",
    "with open(path.strip(\".txt\")+\".json\", \"w\") as outfile:\n",
    "    json.dump(stations_dict, outfile)"
   ]
  },
  {
   "attachments": {},
   "cell_type": "markdown",
   "metadata": {},
   "source": [
    "## Update metadata to include pcodes (parameter codes) from the `pcodes.csv` file"
   ]
  },
  {
   "cell_type": "code",
   "execution_count": 3,
   "metadata": {},
   "outputs": [],
   "source": [
    "# update json file with parameter codes and descriptions\n",
    "path = \"stations.txt\"\n",
    "stations_dict = json.load(open(path.strip(\".txt\")+\".json\",\"r\"))\n",
    "\n",
    "# path to csv file that contains the station codes and parameter codes\n",
    "codes_path = \"pcodes.csv\"\n",
    "codes = open(codes_path,\"r\").readlines()\n",
    "codes = [line.strip(\" \\n\").split(',') for line in codes]\n",
    "\n",
    "for code in codes:\n",
    "    station_name = code[0].upper().strip(\" \")\n",
    "\n",
    "    if station_name in stations_dict[\"stations\"]:\n",
    "        if not \"pcodes\" in stations_dict[station_name]:\n",
    "            stations_dict[station_name][\"pcodes\"] = []\n",
    "        \n",
    "        # print(stations_dict[station_name][\"pcodes\"])\n",
    "        for pcode in code[1:]:\n",
    "            if pcode and pcode.strip(' ') not in stations_dict[station_name][\"pcodes\"]:\n",
    "                # print(station_name, pcode)\n",
    "                stations_dict[station_name][\"pcodes\"].append(pcode.strip(\" \"))\n",
    "\n",
    "# convert stations dictionary to json file for future use\n",
    "with open(path.strip(\".txt\")+\".json\", \"w\") as outfile:\n",
    "    json.dump(stations_dict, outfile)"
   ]
  },
  {
   "cell_type": "code",
   "execution_count": null,
   "metadata": {},
   "outputs": [],
   "source": []
  }
 ],
 "metadata": {
  "kernelspec": {
   "display_name": "base",
   "language": "python",
   "name": "python3"
  },
  "language_info": {
   "codemirror_mode": {
    "name": "ipython",
    "version": 3
   },
   "file_extension": ".py",
   "mimetype": "text/x-python",
   "name": "python",
   "nbconvert_exporter": "python",
   "pygments_lexer": "ipython3",
   "version": "3.11.3"
  },
  "orig_nbformat": 4
 },
 "nbformat": 4,
 "nbformat_minor": 2
}
