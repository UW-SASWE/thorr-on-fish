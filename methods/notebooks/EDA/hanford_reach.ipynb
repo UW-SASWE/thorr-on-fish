{
 "cells": [
  {
   "cell_type": "code",
   "execution_count": null,
   "metadata": {},
   "outputs": [],
   "source": [
    "import pandas as pd\n",
    "from pathlib import Path\n",
    "import matplotlib.pyplot as plt\n",
    "import numpy as np"
   ]
  },
  {
   "cell_type": "code",
   "execution_count": 2,
   "metadata": {},
   "outputs": [],
   "source": [
    "proj_dir = Path(\"../../../\")"
   ]
  },
  {
   "cell_type": "code",
   "execution_count": 3,
   "metadata": {},
   "outputs": [],
   "source": [
    "mcnary_fish_df = pd.read_csv(proj_dir / \"Data/insitu/fish/processed/DART_MCN.csv\")\n",
    "priest_rapids_fish_df = pd.read_csv(proj_dir / \"Data/insitu/fish/processed/DART_PRD.csv\")\n",
    "prosser_fish_df = pd.read_csv(proj_dir / \"Data/insitu/fish/processed/DART_PRO.csv\")\n",
    "ice_harbor_fish_df = pd.read_csv(proj_dir / \"Data/insitu/fish/processed/DART_IHR.csv\")\n",
    "\n",
    "mcnary_fish_df[\"date\"] = pd.to_datetime(mcnary_fish_df[\"date\"])\n",
    "priest_rapids_fish_df[\"date\"] = pd.to_datetime(priest_rapids_fish_df[\"date\"])\n",
    "prosser_fish_df[\"date\"] = pd.to_datetime(prosser_fish_df[\"date\"])\n",
    "ice_harbor_fish_df[\"date\"] = pd.to_datetime(ice_harbor_fish_df[\"date\"])\n",
    "\n",
    "mcnary_fish_df['year'] = mcnary_fish_df['date'].dt.year\n",
    "priest_rapids_fish_df['year'] = priest_rapids_fish_df['date'].dt.year\n",
    "prosser_fish_df['year'] = prosser_fish_df['date'].dt.year\n",
    "ice_harbor_fish_df['year'] = ice_harbor_fish_df['date'].dt.year\n",
    "\n",
    "mcnary_fish_df['month'] = mcnary_fish_df['date'].dt.month\n",
    "priest_rapids_fish_df['month'] = priest_rapids_fish_df['date'].dt.month\n",
    "prosser_fish_df['month'] = prosser_fish_df['date'].dt.month\n",
    "ice_harbor_fish_df['month'] = ice_harbor_fish_df['date'].dt.month\n",
    "\n",
    "mcnary_fish_df['day'] = mcnary_fish_df['date'].dt.day\n",
    "priest_rapids_fish_df['day'] = priest_rapids_fish_df['date'].dt.day\n",
    "prosser_fish_df['day'] = prosser_fish_df['date'].dt.day\n",
    "ice_harbor_fish_df['day'] = ice_harbor_fish_df['date'].dt.day"
   ]
  },
  {
   "cell_type": "code",
   "execution_count": 4,
   "metadata": {},
   "outputs": [],
   "source": [
    "run_schedules = {\n",
    "    \"mcnary\": {'spring': ['04-01', '06-08'], 'summer': ['06-09', '08-08'], 'fall': ['08-09', '10-31']},\n",
    "    \"priest_rapids\": {'spring': ['04-15', '06-13'], 'summer': ['06-14', '08-13'], 'fall': ['08-14', '11-15']},\n",
    "    \"prosser\": {'spring': ['03-01', '08-15'], 'fall': ['08-16', '12-15']},\n",
    "    \"ice_harbor\": {'spring': ['04-01', '06-11'], 'summer': ['06-12', '08-11'], 'fall': ['08-12', '12-15']}\n",
    "}"
   ]
  },
  {
   "cell_type": "code",
   "execution_count": 5,
   "metadata": {},
   "outputs": [],
   "source": [
    "# allocate run schedules to each fish data frame\n",
    "def allocate_runs(df, run_schedule):\n",
    "    df_copy = df.copy()\n",
    "    df_copy['year'] = df_copy['date'].dt.year\n",
    "    for run, dates in run_schedule.items():\n",
    "        for year in df_copy[\"year\"].unique():\n",
    "            start_date = pd.Timestamp(f\"{year}-{dates[0]}\")\n",
    "            end_date = pd.Timestamp(f\"{year}-{dates[1]}\")\n",
    "            df_copy.loc[\n",
    "                (df_copy[\"date\"] >= start_date) & (df_copy[\"date\"] <= end_date), \"run\"\n",
    "            ] = run\n",
    "        df_copy = pd.concat([df_copy, pd.DataFrame(\n",
    "            {\n",
    "                \"run\": run,\n",
    "                \"year\": df_copy[\"year\"].unique(),\n",
    "            }\n",
    "        )])\n",
    "    return df_copy"
   ]
  },
  {
   "cell_type": "code",
   "execution_count": null,
   "metadata": {},
   "outputs": [],
   "source": [
    "allocate_runs(mcnary_fish_df, run_schedules[\"mcnary\"])"
   ]
  },
  {
   "cell_type": "code",
   "execution_count": 7,
   "metadata": {},
   "outputs": [],
   "source": [
    "mcnary_fish_df = allocate_runs(mcnary_fish_df, run_schedules[\"mcnary\"])\n",
    "priest_rapids_fish_df = allocate_runs(priest_rapids_fish_df, run_schedules[\"priest_rapids\"])\n",
    "prosser_fish_df = allocate_runs(prosser_fish_df, run_schedules[\"prosser\"])\n",
    "ice_harbor_fish_df = allocate_runs(ice_harbor_fish_df, run_schedules[\"ice_harbor\"])"
   ]
  },
  {
   "cell_type": "code",
   "execution_count": 8,
   "metadata": {},
   "outputs": [],
   "source": [
    "def plot_stacked_run_counts(df, ax, title, species=\"chinook\"):\n",
    "\n",
    "    bottom = np.zeros(len(df[\"year\"].unique()))\n",
    "    for run, group in df.fillna(0).groupby(\"run\"):\n",
    "        if run != 0:\n",
    "            year_group = group.groupby(\"year\")[species].sum().reset_index()\n",
    "            # fig, ax = plt.subplots()\n",
    "            p = ax.bar(\n",
    "                year_group[\"year\"], year_group[species], label=run, bottom=bottom\n",
    "            )\n",
    "            # print(group.groupby(\"year\")[species].sum().reset_index())\n",
    "            bottom += group.groupby(\"year\")[species].sum()\n",
    "    ax.set_title(title)\n",
    "    ax.legend()"
   ]
  },
  {
   "cell_type": "code",
   "execution_count": null,
   "metadata": {},
   "outputs": [],
   "source": [
    "fig, axs = plt.subplots(2, 2, figsize=(16, 7))\n",
    "plot_stacked_run_counts(mcnary_fish_df, axs[0, 0], \"[4] McNary Dam\")\n",
    "plot_stacked_run_counts(priest_rapids_fish_df, axs[0, 1], \"[5] Priest Rapids Dam\")\n",
    "plot_stacked_run_counts(prosser_fish_df, axs[1, 0], \"[16] Prosser\")\n",
    "plot_stacked_run_counts(ice_harbor_fish_df, axs[1, 1], \"[12] Ice Harbor Dam\")\n",
    "\n",
    "axs[0, 0].set_ylabel(\"Chinook Count\")\n",
    "axs[1, 0].set_ylabel(\"Chinook Count\")\n",
    "\n",
    "axs[1, 0].set_xlabel(\"Year\")\n",
    "axs[1, 1].set_xlabel(\"Year\")\n",
    "\n",
    "fig.tight_layout()"
   ]
  },
  {
   "cell_type": "markdown",
   "metadata": {},
   "source": [
    "# Chinook population in the Hanford Reach"
   ]
  },
  {
   "cell_type": "markdown",
   "metadata": {},
   "source": [
    "Using the concept of control volume to assess the adult migration and population in the Hanford reach.  \n",
    "Adult Chinook entering the reach:  \n",
    "* McNary Dam: $Ch_{4}$\n",
    "\n",
    "Adult Chinook exiting the reach:  \n",
    "* Priest Rapids Dam: $Ch_{5}$\n",
    "* Ice Harbor Dam: $Ch_{12}$\n",
    "* Proser: $Ch_{16}$\n",
    "\n",
    "Adult Chinook population in the reach:\n",
    "* Hanford Reach: $Ch_{hr}$\n",
    "\n",
    "Change in adult chinook population in the reach ($\\Delta Ch_{hr}$):  \n",
    "* $\\Delta Ch_{hr} = Ch_{4} - Ch_{5} - Ch_{12} - Ch_{16}$"
   ]
  },
  {
   "cell_type": "code",
   "execution_count": 10,
   "metadata": {},
   "outputs": [],
   "source": [
    "mcnary_chinook_df = mcnary_fish_df[['date', 'year', 'month', 'day', 'chinook', 'run', 'avg_temp(C)']]\n",
    "priest_rapids_chinook_df = priest_rapids_fish_df[['date', 'year', 'month', 'day', 'chinook', 'run', 'avg_temp(C)']]\n",
    "prosser_chinook_df = prosser_fish_df[['date', 'year', 'month', 'day', 'chinook', 'run']]\n",
    "ice_harbor_chinook_df = ice_harbor_fish_df[['date', 'year', 'month', 'day', 'chinook', 'run', 'avg_temp(C)']]"
   ]
  },
  {
   "cell_type": "code",
   "execution_count": 11,
   "metadata": {},
   "outputs": [],
   "source": [
    "yearly_total_chinook = mcnary_chinook_df.groupby('year')['chinook'].sum().reset_index().rename(columns={'chinook': 'mcnary'}).merge(\n",
    "    priest_rapids_chinook_df.groupby('year')['chinook'].sum().reset_index().rename(columns={'chinook': 'priest_rapids'}),\n",
    "    on='year'\n",
    ").merge(\n",
    "    prosser_chinook_df.groupby('year')['chinook'].sum().reset_index().rename(columns={'chinook': 'prosser'}),\n",
    "    on='year'\n",
    ").merge(\n",
    "    ice_harbor_chinook_df.groupby('year')['chinook'].sum().reset_index().rename(columns={'chinook': 'ice_harbor'}),\n",
    "    on='year'\n",
    ")\n",
    "yearly_total_chinook = yearly_total_chinook[(yearly_total_chinook['year'] >= 2000) & (yearly_total_chinook['year'] <= 2022)]"
   ]
  },
  {
   "cell_type": "code",
   "execution_count": 12,
   "metadata": {},
   "outputs": [],
   "source": [
    "yearly_total_chinook['delta'] = yearly_total_chinook['mcnary'] - yearly_total_chinook['priest_rapids'] - yearly_total_chinook['prosser'] - yearly_total_chinook['ice_harbor']\n",
    "yearly_total_chinook['percent_delta'] = yearly_total_chinook['delta'] / yearly_total_chinook['mcnary']"
   ]
  },
  {
   "cell_type": "code",
   "execution_count": null,
   "metadata": {},
   "outputs": [],
   "source": [
    "fig, ax = plt.subplots()\n",
    "ax.plot(yearly_total_chinook['year'], yearly_total_chinook['mcnary'], label='McNary')\n",
    "# ax.plot(yearly_total_chinook['year'], yearly_total_chinook['priest_rapids'], label='Priest Rapids')\n",
    "# ax.plot(yearly_total_chinook['year'], yearly_total_chinook['prosser'], label='Prosser')\n",
    "# ax.plot(yearly_total_chinook['year'], yearly_total_chinook['ice_harbor'], label='Ice Harbor')\n",
    "ax.plot(yearly_total_chinook['year'], yearly_total_chinook['delta'], label='Delta')\n",
    "\n",
    "ax.legend()"
   ]
  },
  {
   "cell_type": "code",
   "execution_count": null,
   "metadata": {},
   "outputs": [],
   "source": [
    "fig, ax = plt.subplots()\n",
    "ax.bar(yearly_total_chinook['year'], yearly_total_chinook['percent_delta'])"
   ]
  },
  {
   "cell_type": "code",
   "execution_count": 15,
   "metadata": {},
   "outputs": [],
   "source": [
    "yearly_spring_chinook = mcnary_chinook_df[(mcnary_chinook_df['run'] == 'spring')].groupby('year')['chinook'].sum().reset_index().rename(columns={'chinook': 'mcnary'}).merge(\n",
    "    priest_rapids_chinook_df[(priest_rapids_chinook_df['run'] == 'spring')].groupby('year')['chinook'].sum().reset_index().rename(columns={'chinook': 'priest_rapids'}),\n",
    "    on='year', how='outer'\n",
    ").merge(\n",
    "    prosser_chinook_df[(prosser_chinook_df['run'] == 'spring')].groupby('year')['chinook'].sum().reset_index().rename(columns={'chinook': 'prosser'}),\n",
    "    on='year', how='outer'\n",
    ").merge(\n",
    "    ice_harbor_chinook_df[(ice_harbor_chinook_df['run'] == 'spring')].groupby('year')['chinook'].sum().reset_index().rename(columns={'chinook': 'ice_harbor'}),\n",
    "    on='year', how='outer'\n",
    ")\n",
    "\n",
    "\n",
    "\n",
    "yearly_spring_chinook = yearly_spring_chinook[(yearly_spring_chinook['year'] >= 2000) & (yearly_spring_chinook['year'] <= 2022)]\n",
    "yearly_spring_chinook['delta'] = yearly_spring_chinook['mcnary'] - yearly_spring_chinook['priest_rapids'] - yearly_spring_chinook['prosser'] - yearly_spring_chinook['ice_harbor']\n",
    "yearly_spring_chinook['percent_delta'] = yearly_spring_chinook['delta'] / yearly_spring_chinook['mcnary']"
   ]
  },
  {
   "cell_type": "code",
   "execution_count": 16,
   "metadata": {},
   "outputs": [],
   "source": [
    "yearly_summer_chinook = mcnary_chinook_df[(mcnary_chinook_df['run'] == 'summer')].groupby('year')['chinook'].sum().reset_index().rename(columns={'chinook': 'mcnary'}).merge(\n",
    "    priest_rapids_chinook_df[(priest_rapids_chinook_df['run'] == 'summer')].groupby('year')['chinook'].sum().reset_index().rename(columns={'chinook': 'priest_rapids'}),\n",
    "    on='year', how='outer'\n",
    ").merge(\n",
    "    ice_harbor_chinook_df[(ice_harbor_chinook_df['run'] == 'summer')].groupby('year')['chinook'].sum().reset_index().rename(columns={'chinook': 'ice_harbor'}),\n",
    "    on='year', how='outer'\n",
    ")\n",
    "\n",
    "yearly_summer_chinook = yearly_summer_chinook[(yearly_summer_chinook['year'] >= 2000) & (yearly_summer_chinook['year'] <= 2022)]\n",
    "yearly_summer_chinook['delta'] = yearly_summer_chinook['mcnary'] - yearly_summer_chinook['priest_rapids'] - yearly_summer_chinook['ice_harbor']\n",
    "yearly_summer_chinook['percent_delta'] = yearly_summer_chinook['delta'] / yearly_summer_chinook['mcnary']"
   ]
  },
  {
   "cell_type": "code",
   "execution_count": 17,
   "metadata": {},
   "outputs": [],
   "source": [
    "yearly_fall_chinook = mcnary_chinook_df[(mcnary_chinook_df['run'] == 'fall')].groupby('year')['chinook'].sum().reset_index().rename(columns={'chinook': 'mcnary'}).merge(\n",
    "    priest_rapids_chinook_df[(priest_rapids_chinook_df['run'] == 'fall')].groupby('year')['chinook'].sum().reset_index().rename(columns={'chinook': 'priest_rapids'}),\n",
    "    on='year', how='outer'\n",
    ").merge(\n",
    "    prosser_chinook_df[(prosser_chinook_df['run'] == 'fall')].groupby('year')['chinook'].sum().reset_index().rename(columns={'chinook': 'prosser'}),\n",
    "    on='year', how='outer'\n",
    ").merge(\n",
    "    ice_harbor_chinook_df[(ice_harbor_chinook_df['run'] == 'fall')].groupby('year')['chinook'].sum().reset_index().rename(columns={'chinook': 'ice_harbor'}),\n",
    "    on='year', how='outer'\n",
    ")\n",
    "\n",
    "yearly_fall_chinook = yearly_fall_chinook[(yearly_fall_chinook['year'] >= 2000) & (yearly_fall_chinook['year'] <= 2022)]\n",
    "yearly_fall_chinook['delta'] = yearly_fall_chinook['mcnary'] - yearly_fall_chinook['priest_rapids'] - yearly_fall_chinook['prosser'] - yearly_fall_chinook['ice_harbor']\n",
    "yearly_fall_chinook['percent_delta'] = yearly_fall_chinook['delta'] / yearly_fall_chinook['mcnary']"
   ]
  },
  {
   "cell_type": "code",
   "execution_count": null,
   "metadata": {},
   "outputs": [],
   "source": [
    "yearly_summer_chinook"
   ]
  },
  {
   "cell_type": "code",
   "execution_count": null,
   "metadata": {},
   "outputs": [],
   "source": [
    "fig, (ax1, ax2) = plt.subplots(2, 1, figsize=(12, 5))\n",
    "p = ax1.bar(yearly_spring_chinook['year'], yearly_spring_chinook['delta'], label='spring')\n",
    "ax1.bar_label(p, label_type='edge', labels=yearly_spring_chinook['percent_delta'].round(2).astype(str), padding=3)\n",
    "\n",
    "ax2.bar(yearly_spring_chinook['year'], yearly_spring_chinook['percent_delta'], label='spring')"
   ]
  },
  {
   "cell_type": "code",
   "execution_count": null,
   "metadata": {},
   "outputs": [],
   "source": [
    "fig, (ax1, ax2) = plt.subplots(2, 1, figsize=(12, 5))\n",
    "p = ax1.bar(yearly_summer_chinook['year'], yearly_summer_chinook['delta'], label='summer')\n",
    "ax1.bar_label(p, label_type='edge', labels=yearly_summer_chinook['percent_delta'].round(2).astype(str), padding=3)\n",
    "\n",
    "ax2.bar(yearly_summer_chinook['year'], yearly_summer_chinook['percent_delta'], label='summer')\n"
   ]
  },
  {
   "cell_type": "code",
   "execution_count": null,
   "metadata": {},
   "outputs": [],
   "source": [
    "fig, (ax1, ax2) = plt.subplots(2, 1, figsize=(12, 5))\n",
    "p = ax1.bar(yearly_fall_chinook['year'], yearly_fall_chinook['delta'], label='fall')\n",
    "ax1.bar_label(p, label_type='edge', labels=yearly_fall_chinook['percent_delta'].round(2).astype(str), padding=3)\n",
    "\n",
    "ax2.bar(yearly_fall_chinook['year'], yearly_fall_chinook['percent_delta'], label='fall')"
   ]
  },
  {
   "cell_type": "code",
   "execution_count": null,
   "metadata": {},
   "outputs": [],
   "source": [
    "fig, ax = plt.subplots()\n",
    "ax.bar(yearly_spring_chinook['year'], yearly_spring_chinook['delta'], label='McNary')\n",
    "ax.bar(yearly_summer_chinook['year'], yearly_summer_chinook['delta'], label='Priest Rapids')"
   ]
  },
  {
   "cell_type": "code",
   "execution_count": null,
   "metadata": {},
   "outputs": [],
   "source": [
    "# data from https://allisonhorst.github.io/palmerpenguins/\n",
    "\n",
    "import matplotlib.pyplot as plt\n",
    "import numpy as np\n",
    "\n",
    "species = yearly_spring_chinook['year']\n",
    "penguin_means = {\n",
    "    'Spring': yearly_spring_chinook['delta'],\n",
    "    'Summer': yearly_summer_chinook['delta'],\n",
    "    'Fall': yearly_fall_chinook['delta'],\n",
    "}\n",
    "\n",
    "x = np.arange(len(species))  # the label locations\n",
    "width = .25  # the width of the bars\n",
    "multiplier = 0\n",
    "\n",
    "fig, ax = plt.subplots(figsize=(15, 5))\n",
    "\n",
    "for attribute, measurement in penguin_means.items():\n",
    "    offset = width * multiplier\n",
    "    rects = ax.bar(x + offset, measurement, width, label=attribute)\n",
    "    # ax.bar_label(rects, padding=3)\n",
    "    multiplier += 1\n",
    "\n",
    "# Add some text for labels, title and custom x-axis tick labels, etc.\n",
    "ax.set_ylabel('Fish count')\n",
    "ax.set_title('Change in Chinook population in the Hanford Reach')\n",
    "ax.set_xticks(x + width, species)\n",
    "ax.legend(loc='upper left', ncols=3)\n",
    "# ax.set_ylim(0, 250)\n",
    "\n",
    "plt.show()"
   ]
  },
  {
   "cell_type": "code",
   "execution_count": null,
   "metadata": {},
   "outputs": [],
   "source": [
    "# data from https://allisonhorst.github.io/palmerpenguins/\n",
    "\n",
    "import matplotlib.pyplot as plt\n",
    "import numpy as np\n",
    "\n",
    "species = yearly_spring_chinook['year']\n",
    "penguin_means = {\n",
    "    'Spring': yearly_spring_chinook['percent_delta'],\n",
    "    'Summer': yearly_summer_chinook['percent_delta'],\n",
    "    'Fall': yearly_fall_chinook['percent_delta'],\n",
    "}\n",
    "\n",
    "x = np.arange(len(species))  # the label locations\n",
    "width = .25  # the width of the bars\n",
    "multiplier = 0\n",
    "\n",
    "fig, ax = plt.subplots(figsize=(15, 5))\n",
    "\n",
    "for attribute, measurement in penguin_means.items():\n",
    "    offset = width * multiplier\n",
    "    rects = ax.bar(x + offset, measurement, width, label=attribute)\n",
    "    # ax.bar_label(rects, padding=3)\n",
    "    multiplier += 1\n",
    "\n",
    "# Add some text for labels, title and custom x-axis tick labels, etc.\n",
    "ax.set_ylabel('Fish count')\n",
    "ax.set_title('Change in Chinook population in the Hanford Reach as a percentage of Fish Count at McNary Dam')\n",
    "ax.set_xticks(x + width, species)\n",
    "ax.legend(loc='upper left', ncols=3)\n",
    "# ax.set_ylim(0, 250)\n",
    "\n",
    "plt.show()"
   ]
  },
  {
   "cell_type": "code",
   "execution_count": null,
   "metadata": {},
   "outputs": [],
   "source": [
    "fig, ax = plt.subplots()\n",
    "ax.bar(yearly_spring_chinook['year'], yearly_spring_chinook['percent_delta'], label='spring')"
   ]
  },
  {
   "cell_type": "code",
   "execution_count": null,
   "metadata": {},
   "outputs": [],
   "source": [
    "fig, ax = plt.subplots()\n",
    "ax.bar(yearly_summer_chinook['year'], yearly_summer_chinook['percent_delta'], label='summer')"
   ]
  },
  {
   "cell_type": "code",
   "execution_count": null,
   "metadata": {},
   "outputs": [],
   "source": [
    "fig, ax = plt.subplots()\n",
    "ax.bar(yearly_fall_chinook['year'], yearly_fall_chinook['percent_delta'], label='fall')\n"
   ]
  },
  {
   "cell_type": "code",
   "execution_count": 31,
   "metadata": {},
   "outputs": [],
   "source": [
    "thorr_df = pd.read_csv(\"/Users/gdarkwah/Library/CloudStorage/OneDrive-UW/01-Research/02-Fish/data/thorr/thorr_temp.csv\")\n",
    "thorr_df['date'] = pd.to_datetime(thorr_df['Date'])\n",
    "\n",
    "thorr_df = thorr_df[thorr_df['RiverID'] == 9].copy()"
   ]
  },
  {
   "cell_type": "markdown",
   "metadata": {},
   "source": [
    "# Year 2000 Fall Chinook"
   ]
  },
  {
   "cell_type": "code",
   "execution_count": 32,
   "metadata": {},
   "outputs": [],
   "source": [
    "fall_chinook_2000 = mcnary_chinook_df[(mcnary_chinook_df['run'] == 'fall')][['date', 'chinook']].rename(columns={'chinook': 'mcnary'}).merge(\n",
    "    priest_rapids_chinook_df[(priest_rapids_chinook_df['run'] == 'fall')][['date', 'chinook']].rename(columns={'chinook': 'priest_rapids'}),\n",
    "    on='date', how='outer'\n",
    ").merge(\n",
    "    prosser_chinook_df[(prosser_chinook_df['run'] == 'fall')][['date', 'chinook']].rename(columns={'chinook': 'prosser'}),\n",
    "    on='date', how='outer'\n",
    ").merge(\n",
    "    ice_harbor_chinook_df[(ice_harbor_chinook_df['run'] == 'fall')][['date', 'chinook']].rename(columns={'chinook': 'ice_harbor'}),\n",
    "    on='date', how='outer'\n",
    ")\n",
    "\n",
    "# fall_chinook_2000 = fall_chinook_2000[(fall_chinook_2000['date'].dt.year >= 2000) & (fall_chinook_2000['date'].dt.year <= 2022)]\n",
    "fall_chinook_2000 = fall_chinook_2000[(fall_chinook_2000['date'].dt.year == 2000)]\n",
    "fall_chinook_2000.fillna(0, inplace=True)\n",
    "fall_chinook_2000['delta'] = fall_chinook_2000['mcnary'] - fall_chinook_2000['priest_rapids'] - fall_chinook_2000['prosser'] - fall_chinook_2000['ice_harbor']\n",
    "fall_chinook_2000['percent_delta'] = fall_chinook_2000['delta'] / fall_chinook_2000['mcnary']"
   ]
  },
  {
   "cell_type": "code",
   "execution_count": 33,
   "metadata": {},
   "outputs": [],
   "source": [
    "fall_chinook_2000 = mcnary_chinook_df[(mcnary_chinook_df['run'] == 'fall')][['date', 'chinook']].rename(columns={'chinook': 'mcnary'}).merge(\n",
    "    priest_rapids_chinook_df[(priest_rapids_chinook_df['run'] == 'fall')][['date', 'chinook']].rename(columns={'chinook': 'priest_rapids'}),\n",
    "    on='date', how='outer'\n",
    ").merge(\n",
    "    prosser_chinook_df[(prosser_chinook_df['run'] == 'fall')][['date', 'chinook']].rename(columns={'chinook': 'prosser'}),\n",
    "    on='date', how='outer'\n",
    ").merge(\n",
    "    ice_harbor_chinook_df[(ice_harbor_chinook_df['run'] == 'fall')][['date', 'chinook']].rename(columns={'chinook': 'ice_harbor'}),\n",
    "    on='date', how='outer'\n",
    ")\n",
    "\n",
    "# fall_chinook_2000 = fall_chinook_2000[(fall_chinook_2000['date'].dt.year >= 2000) & (fall_chinook_2000['date'].dt.year <= 2022)]\n",
    "fall_chinook_2000 = fall_chinook_2000[(fall_chinook_2000['date'].dt.year == 2000)]\n",
    "fall_chinook_2000.fillna(0, inplace=True)\n",
    "fall_chinook_2000['delta'] = fall_chinook_2000['mcnary'] - fall_chinook_2000['priest_rapids'] - fall_chinook_2000['prosser'] - fall_chinook_2000['ice_harbor']\n",
    "fall_chinook_2000['percent_delta'] = fall_chinook_2000['delta'] / fall_chinook_2000['mcnary']"
   ]
  },
  {
   "cell_type": "code",
   "execution_count": 34,
   "metadata": {},
   "outputs": [],
   "source": [
    "test = fall_chinook_2000.resample('W', on='date').sum().reset_index()"
   ]
  },
  {
   "cell_type": "code",
   "execution_count": 35,
   "metadata": {},
   "outputs": [],
   "source": [
    "test['population'] = test['delta'].cumsum()"
   ]
  },
  {
   "cell_type": "code",
   "execution_count": null,
   "metadata": {},
   "outputs": [],
   "source": [
    "fig, ax = plt.subplots(figsize=(10, 4))\n",
    "test[test['date'].dt.year == 2000].plot(x='date', y='mcnary', ax=ax, label='Count at McNary')\n",
    "test[test['date'].dt.year == 2000].plot(x='date', y='population', ax=ax, label='Chinook Population')\n",
    "test[test['date'].dt.year == 2000].plot(x='date', y='delta', ax=ax, label='$\\Delta$ Chinook Population')\n",
    "ax.axhline(0, color='black', linewidth=1)\n",
    "ax.set_title('Fall Chinook population at Hanford Reach in 2000')"
   ]
  },
  {
   "cell_type": "code",
   "execution_count": 38,
   "metadata": {},
   "outputs": [],
   "source": [
    "closeup_year = 2000\n",
    "\n",
    "# thorr_df = pd.read_csv(\"/Users/gdarkwah/Library/CloudStorage/OneDrive-UW/01-Research/02-Fish/Data/database/thorr_data.csv\")\n",
    "# thorr_df['date'] = pd.to_datetime(thorr_df['Date'])\n",
    "\n",
    "# thorr_df = thorr_df[thorr_df['RiverID'] == 9].copy()\n",
    "thorr_df_closeup = thorr_df[(thorr_df['date'] >= f'{closeup_year}-08-01') & (thorr_df['date'] <= f'{closeup_year}-11-15')]"
   ]
  },
  {
   "cell_type": "code",
   "execution_count": 39,
   "metadata": {},
   "outputs": [],
   "source": [
    "grouped_closeup = thorr_df_closeup.groupby('RKm')\n",
    "\n",
    "merged_thorr = pd.DataFrame(columns=['date'])\n",
    "for group in grouped_closeup:\n",
    "    resampled = group[1].resample('W', on='date').mean(numeric_only=True).reset_index()\n",
    "    # print(resampled)\n",
    "    resampled.rename(columns={'EstTempC': resampled['RKm'].iloc[0]}, inplace=True)\n",
    "    merged_thorr = pd.merge(merged_thorr, resampled[['date', resampled['RKm'].iloc[0]]], on='date', how='outer')\n",
    "\n",
    "merged_thorr['date'] = pd.to_datetime(merged_thorr['date'])\n",
    "\n",
    "#make date the index\n",
    "merged_thorr.set_index('date', inplace=True)\n",
    "# sort by date\n",
    "merged_thorr.sort_index(inplace=True)"
   ]
  },
  {
   "cell_type": "code",
   "execution_count": 40,
   "metadata": {},
   "outputs": [],
   "source": [
    "hanford_reach_temp = merged_thorr[range(460, 630, 10)].reset_index()"
   ]
  },
  {
   "cell_type": "code",
   "execution_count": null,
   "metadata": {},
   "outputs": [],
   "source": [
    "hanford_reach_temp['mean_temp'] = hanford_reach_temp.drop(columns=['date']).mean(axis=1)\n",
    "hanford_reach_temp[460]"
   ]
  },
  {
   "cell_type": "code",
   "execution_count": null,
   "metadata": {},
   "outputs": [],
   "source": [
    "test"
   ]
  },
  {
   "cell_type": "code",
   "execution_count": null,
   "metadata": {},
   "outputs": [],
   "source": [
    "hanford_reach_temp"
   ]
  },
  {
   "cell_type": "code",
   "execution_count": null,
   "metadata": {},
   "outputs": [],
   "source": [
    "fig, (ax, ax1) = plt.subplots(2, 1, figsize=(10, 8), sharex=True)\n",
    "test[test['date'].dt.year == 2000].plot(x='date', y='mcnary', ax=ax, label='Count at McNary')\n",
    "test[test['date'].dt.year == 2000].plot(x='date', y='population', ax=ax, label='Chinook Population')\n",
    "test[test['date'].dt.year == 2000].plot(x='date', y='delta', ax=ax, label='$\\Delta$ Chinook Population')\n",
    "ax.axhline(0, color='black', linewidth=1)\n",
    "ax.set_title('Fall Chinook population at Hanford Reach in 2000')\n",
    "\n",
    "# ax1 = ax.twinx()\n",
    "hanford_reach_temp.plot(x='date', y='mean_temp', ax=ax1, label='Mean Temperature')\n",
    "# hanford_reach_temp.plot(x='date', y=630, ax=ax1, label='630')\n",
    "# ax1.axvline(pd.Timestamp(f'2000-10-15'), color='red', linestyle='--')\n",
    "# ax.axvline(pd.Timestamp(f'2000-10-15'), color='red', linestyle='--')\n",
    "\n",
    "ax1.axhline(20, color='black', linestyle='--')"
   ]
  },
  {
   "cell_type": "code",
   "execution_count": null,
   "metadata": {},
   "outputs": [],
   "source": [
    "a = hanford_reach_temp[['date', 'mean_temp']].merge(test[test['date'].dt.year == 2000], on='date')\n",
    "fig, ax = plt.subplots()\n",
    "ax.scatter(a['mean_temp'], a['delta'],)"
   ]
  },
  {
   "cell_type": "markdown",
   "metadata": {},
   "source": [
    "# Year 2001 Fall Chinook"
   ]
  },
  {
   "cell_type": "code",
   "execution_count": 46,
   "metadata": {},
   "outputs": [],
   "source": [
    "fall_chinook_2001 = mcnary_chinook_df[(mcnary_chinook_df['run'] == 'fall')][['date', 'chinook']].rename(columns={'chinook': 'mcnary'}).merge(\n",
    "    priest_rapids_chinook_df[(priest_rapids_chinook_df['run'] == 'fall')][['date', 'chinook']].rename(columns={'chinook': 'priest_rapids'}),\n",
    "    on='date', how='outer'\n",
    ").merge(\n",
    "    prosser_chinook_df[(prosser_chinook_df['run'] == 'fall')][['date', 'chinook']].rename(columns={'chinook': 'prosser'}),\n",
    "    on='date', how='outer'\n",
    ").merge(\n",
    "    ice_harbor_chinook_df[(ice_harbor_chinook_df['run'] == 'fall')][['date', 'chinook']].rename(columns={'chinook': 'ice_harbor'}),\n",
    "    on='date', how='outer'\n",
    ")\n",
    "\n",
    "# fall_chinook_2001 = fall_chinook_2001[(fall_chinook_2001['date'].dt.year >= 2001) & (fall_chinook_2001['date'].dt.year <= 2022)]\n",
    "fall_chinook_2001 = fall_chinook_2001[(fall_chinook_2001['date'].dt.year == 2001)]\n",
    "fall_chinook_2001.fillna(0, inplace=True)\n",
    "fall_chinook_2001['delta'] = fall_chinook_2001['mcnary'] - fall_chinook_2001['priest_rapids'] - fall_chinook_2001['prosser'] - fall_chinook_2001['ice_harbor']\n",
    "fall_chinook_2001['percent_delta'] = fall_chinook_2001['delta'] / fall_chinook_2001['mcnary']"
   ]
  },
  {
   "cell_type": "code",
   "execution_count": 47,
   "metadata": {},
   "outputs": [],
   "source": [
    "fall_chinook_2001 = mcnary_chinook_df[(mcnary_chinook_df['run'] == 'fall')][['date', 'chinook']].rename(columns={'chinook': 'mcnary'}).merge(\n",
    "    priest_rapids_chinook_df[(priest_rapids_chinook_df['run'] == 'fall')][['date', 'chinook']].rename(columns={'chinook': 'priest_rapids'}),\n",
    "    on='date', how='outer'\n",
    ").merge(\n",
    "    prosser_chinook_df[(prosser_chinook_df['run'] == 'fall')][['date', 'chinook']].rename(columns={'chinook': 'prosser'}),\n",
    "    on='date', how='outer'\n",
    ").merge(\n",
    "    ice_harbor_chinook_df[(ice_harbor_chinook_df['run'] == 'fall')][['date', 'chinook']].rename(columns={'chinook': 'ice_harbor'}),\n",
    "    on='date', how='outer'\n",
    ")\n",
    "\n",
    "# fall_chinook_2001 = fall_chinook_2001[(fall_chinook_2001['date'].dt.year >= 2001) & (fall_chinook_2001['date'].dt.year <= 2022)]\n",
    "fall_chinook_2001 = fall_chinook_2001[(fall_chinook_2001['date'].dt.year == 2001)]\n",
    "fall_chinook_2001.fillna(0, inplace=True)\n",
    "fall_chinook_2001['delta'] = fall_chinook_2001['mcnary'] - fall_chinook_2001['priest_rapids'] - fall_chinook_2001['prosser'] - fall_chinook_2001['ice_harbor']\n",
    "fall_chinook_2001['percent_delta'] = fall_chinook_2001['delta'] / fall_chinook_2001['mcnary']"
   ]
  },
  {
   "cell_type": "code",
   "execution_count": 48,
   "metadata": {},
   "outputs": [],
   "source": [
    "test = fall_chinook_2001.resample('W', on='date').sum().reset_index()"
   ]
  },
  {
   "cell_type": "code",
   "execution_count": 49,
   "metadata": {},
   "outputs": [],
   "source": [
    "test['population'] = test['delta'].cumsum()"
   ]
  },
  {
   "cell_type": "code",
   "execution_count": null,
   "metadata": {},
   "outputs": [],
   "source": [
    "fig, ax = plt.subplots(figsize=(10, 4))\n",
    "test[test['date'].dt.year == 2001].plot(x='date', y='mcnary', ax=ax, label='Count at McNary')\n",
    "test[test['date'].dt.year == 2001].plot(x='date', y='population', ax=ax, label='Chinook Population')\n",
    "test[test['date'].dt.year == 2001].plot(x='date', y='delta', ax=ax, label='$\\Delta$ Chinook Population')\n",
    "ax.axhline(0, color='black', linewidth=1)\n",
    "ax.set_title('Fall Chinook population at Hanford Reach in 2001')"
   ]
  },
  {
   "cell_type": "code",
   "execution_count": 51,
   "metadata": {},
   "outputs": [],
   "source": [
    "closeup_year = 2001\n",
    "\n",
    "# thorr_df = pd.read_csv(\"/Users/gdarkwah/Library/CloudStorage/OneDrive-UW/01-Research/02-Fish/Data/database/thorr_data.csv\")\n",
    "# thorr_df['date'] = pd.to_datetime(thorr_df['Date'])\n",
    "\n",
    "thorr_df = thorr_df[thorr_df['RiverID'] == 9].copy()\n",
    "thorr_df_closeup = thorr_df[(thorr_df['date'] >= f'{closeup_year}-08-01') & (thorr_df['date'] <= f'{closeup_year}-11-15')]"
   ]
  },
  {
   "cell_type": "code",
   "execution_count": 52,
   "metadata": {},
   "outputs": [],
   "source": [
    "grouped_closeup = thorr_df_closeup.groupby('RKm')\n",
    "\n",
    "merged_thorr = pd.DataFrame(columns=['date'])\n",
    "for group in grouped_closeup:\n",
    "    resampled = group[1].resample('W', on='date').mean(numeric_only=True).reset_index()\n",
    "    # print(resampled)\n",
    "    resampled.rename(columns={'EstTempC': resampled['RKm'].iloc[0]}, inplace=True)\n",
    "    merged_thorr = pd.merge(merged_thorr, resampled[['date', resampled['RKm'].iloc[0]]], on='date', how='outer')\n",
    "\n",
    "merged_thorr['date'] = pd.to_datetime(merged_thorr['date'])\n",
    "\n",
    "#make date the index\n",
    "merged_thorr.set_index('date', inplace=True)\n",
    "# sort by date\n",
    "merged_thorr.sort_index(inplace=True)"
   ]
  },
  {
   "cell_type": "code",
   "execution_count": 53,
   "metadata": {},
   "outputs": [],
   "source": [
    "hanford_reach_temp = merged_thorr[range(460, 630, 10)].reset_index()"
   ]
  },
  {
   "cell_type": "code",
   "execution_count": null,
   "metadata": {},
   "outputs": [],
   "source": [
    "hanford_reach_temp['mean_temp'] = hanford_reach_temp.drop(columns=['date']).mean(axis=1)\n",
    "hanford_reach_temp[460]"
   ]
  },
  {
   "cell_type": "code",
   "execution_count": null,
   "metadata": {},
   "outputs": [],
   "source": [
    "test"
   ]
  },
  {
   "cell_type": "code",
   "execution_count": null,
   "metadata": {},
   "outputs": [],
   "source": [
    "fig, (ax, ax1) = plt.subplots(2, 1, figsize=(10, 8), sharex=True)\n",
    "test[test['date'].dt.year == 2001].plot(x='date', y='mcnary', ax=ax, label='Count at McNary')\n",
    "test[test['date'].dt.year == 2001].plot(x='date', y='population', ax=ax, label='Chinook Population')\n",
    "test[test['date'].dt.year == 2001].plot(x='date', y='delta', ax=ax, label='$\\Delta$ Chinook Population')\n",
    "ax.axhline(0, color='black', linewidth=1)\n",
    "ax.set_title('Fall Chinook population at Hanford Reach in 2001')\n",
    "\n",
    "# ax1 = ax.twinx()\n",
    "hanford_reach_temp.plot(x='date', y='mean_temp', ax=ax1, label='Mean Temperature')\n",
    "# hanford_reach_temp.plot(x='date', y=630, ax=ax1, label='630')\n",
    "# ax1.axvline(pd.Timestamp(f'2001-10-15'), color='red', linestyle='--')\n",
    "# ax.axvline(pd.Timestamp(f'2001-10-15'), color='red', linestyle='--')\n",
    "\n",
    "ax1.axhline(20, color='black', linestyle='--')"
   ]
  },
  {
   "cell_type": "code",
   "execution_count": null,
   "metadata": {},
   "outputs": [],
   "source": [
    "a = hanford_reach_temp[['date', 'mean_temp']].merge(test[test['date'].dt.year == 2001], on='date')\n",
    "fig, ax = plt.subplots()\n",
    "ax.scatter(a['mean_temp'], a['delta'],)"
   ]
  },
  {
   "cell_type": "markdown",
   "metadata": {},
   "source": [
    "## General Chinook"
   ]
  },
  {
   "cell_type": "code",
   "execution_count": 58,
   "metadata": {},
   "outputs": [],
   "source": [
    "hanford_chinook_df = mcnary_chinook_df[(mcnary_chinook_df['run'] == 'fall')][['date', 'chinook']].rename(columns={'chinook': 'mcnary'}).merge(\n",
    "    priest_rapids_chinook_df[(priest_rapids_chinook_df['run'] == 'fall')][['date', 'chinook']].rename(columns={'chinook': 'priest_rapids'}),\n",
    "    on='date', how='outer'\n",
    ").merge(\n",
    "    prosser_chinook_df[(prosser_chinook_df['run'] == 'fall')][['date', 'chinook']].rename(columns={'chinook': 'prosser'}),\n",
    "    on='date', how='outer'\n",
    ").merge(\n",
    "    ice_harbor_chinook_df[(ice_harbor_chinook_df['run'] == 'fall')][['date', 'chinook']].rename(columns={'chinook': 'ice_harbor'}),\n",
    "    on='date', how='outer'\n",
    ")\n",
    "hanford_chinook_df['year'] = hanford_chinook_df['date'].dt.year\n",
    "hanford_chinook_df[['mcnary', 'priest_rapids', 'prosser', 'ice_harbor']] =hanford_chinook_df[['mcnary', 'priest_rapids', 'prosser', 'ice_harbor']].copy().fillna(0)\n",
    "hanford_chinook_df['delta'] = hanford_chinook_df['mcnary'] - hanford_chinook_df['priest_rapids'] - hanford_chinook_df['prosser'] - hanford_chinook_df['ice_harbor']\n",
    "\n",
    "# hanford_chinook_df['percent_delta'] = hanford_chinook_df['delta'] / hanford_chinook_df['mcnary']\n"
   ]
  },
  {
   "cell_type": "code",
   "execution_count": null,
   "metadata": {},
   "outputs": [],
   "source": [
    "hanford_chinook_df"
   ]
  },
  {
   "cell_type": "code",
   "execution_count": null,
   "metadata": {},
   "outputs": [],
   "source": [
    "for year in hanford_chinook_df['year'].unique():\n",
    "    _hanford_chinook_df = hanford_chinook_df[hanford_chinook_df['date'].dt.year == year].copy()\n",
    "    _hanford_chinook_df = _hanford_chinook_df[_hanford_chinook_df['date'] <= pd.to_datetime(f'{int(year)}-11-15')]\n",
    "    _hanford_chinook_df = _hanford_chinook_df.resample('W', on='date').sum().reset_index()\n",
    "    _hanford_chinook_df.drop(columns=['year'], inplace=True)\n",
    "    _hanford_chinook_df['population'] = _hanford_chinook_df['delta'].cumsum()\n",
    "    _hanford_chinook_df['norm_delta'] = _hanford_chinook_df['delta'] / _hanford_chinook_df['population'].max()\n",
    "    # print(_hanford_chinook_df)\n",
    "\n",
    "    fig, (ax, ax1) = plt.subplots(2, 1, figsize=(7, 7), sharex=True)\n",
    "    _hanford_chinook_df.plot(x='date', y='mcnary', ax=ax, label='Count at McNary')\n",
    "    _hanford_chinook_df.plot(x='date', y='population', ax=ax, label='Chinook Population')\n",
    "    _hanford_chinook_df.plot(x='date', y='delta', ax=ax, label='$\\Delta$ Chinook Population')\n",
    "\n",
    "    _thorr_df_closeup = thorr_df[(thorr_df['date'] >= _hanford_chinook_df['date'].min()) & (thorr_df['date'] <= _hanford_chinook_df['date'].max())]\n",
    "\n",
    "    grouped_closeup = _thorr_df_closeup.groupby('RKm')\n",
    "\n",
    "    merged_thorr = pd.DataFrame(columns=['date'])\n",
    "    for group in grouped_closeup:\n",
    "        resampled = group[1].resample('W', on='date').mean(numeric_only=True).reset_index()\n",
    "        # print(resampled)\n",
    "        resampled.rename(columns={'EstTempC': resampled['RKm'].iloc[0]}, inplace=True)\n",
    "        merged_thorr = pd.merge(merged_thorr, resampled[['date', resampled['RKm'].iloc[0]]], on='date', how='outer')\n",
    "\n",
    "    merged_thorr['date'] = pd.to_datetime(merged_thorr['date'])\n",
    "    #make date the index\n",
    "    merged_thorr.set_index('date', inplace=True)\n",
    "    # sort by date\n",
    "    merged_thorr.sort_index(inplace=True)\n",
    "\n",
    "    hanford_reach_temp = merged_thorr[range(460, 630, 10)].reset_index()\n",
    "    hanford_reach_temp['mean_temp'] = hanford_reach_temp.drop(columns=['date']).mean(axis=1)\n",
    "\n",
    "    hanford_reach_temp.plot(x='date', y='mean_temp', ax=ax1, label='Mean Temperature')\n",
    "\n",
    "    ax.set_ylabel('Count')\n",
    "    ax1.set_ylabel('Temperature (C)')\n",
    "\n",
    "    ax.axhline(0, color='black', linewidth=1)\n",
    "    ax1.axhline(20, color='black', linestyle='--')\n",
    "\n",
    "    fig.suptitle(f'Fall Chinook population at Hanford Reach in {int(year)}')\n",
    "    fig.tight_layout()\n",
    "    # break"
   ]
  },
  {
   "cell_type": "code",
   "execution_count": null,
   "metadata": {},
   "outputs": [],
   "source": []
  },
  {
   "cell_type": "code",
   "execution_count": null,
   "metadata": {},
   "outputs": [],
   "source": [
    "hanford_chinook_df"
   ]
  },
  {
   "cell_type": "code",
   "execution_count": null,
   "metadata": {},
   "outputs": [],
   "source": [
    "hanford_chinook_df[hanford_chinook_df['date'].dt.year == 2000]"
   ]
  },
  {
   "cell_type": "code",
   "execution_count": null,
   "metadata": {},
   "outputs": [],
   "source": [
    "_hanford_chinook_df = hanford_chinook_df.resample('W', on='date').sum().reset_index()\n",
    "_hanford_chinook_df"
   ]
  },
  {
   "cell_type": "code",
   "execution_count": null,
   "metadata": {},
   "outputs": [],
   "source": []
  },
  {
   "cell_type": "code",
   "execution_count": 34,
   "metadata": {},
   "outputs": [],
   "source": [
    "grouped_closeup = thorr_df.groupby('RKm')\n",
    "\n",
    "_merged_thorr = pd.DataFrame(columns=['date'])\n",
    "for group in grouped_closeup:\n",
    "    resampled = group[1].resample('W', on='date').mean(numeric_only=True).reset_index()\n",
    "    # print(resampled)\n",
    "    resampled.rename(columns={'EstTempC': resampled['RKm'].iloc[0]}, inplace=True)\n",
    "    _merged_thorr = pd.merge(_merged_thorr, resampled[['date', resampled['RKm'].iloc[0]]], on='date', how='outer')\n",
    "\n",
    "_merged_thorr['date'] = pd.to_datetime(_merged_thorr['date'])\n",
    "\n",
    "#make date the index\n",
    "_merged_thorr.set_index('date', inplace=True)\n",
    "# sort by date\n",
    "_merged_thorr.sort_index(inplace=True)"
   ]
  },
  {
   "cell_type": "code",
   "execution_count": 35,
   "metadata": {},
   "outputs": [],
   "source": [
    "_hanford_temp_df = _merged_thorr[range(460, 630, 10)].reset_index()\n",
    "_hanford_temp_df['mean_temp'] = _hanford_temp_df.drop(columns=['date']).mean(axis=1)"
   ]
  },
  {
   "cell_type": "code",
   "execution_count": 36,
   "metadata": {},
   "outputs": [],
   "source": [
    "_hanford_chinook_df = _hanford_chinook_df.merge(_hanford_temp_df, on='date', how='left')"
   ]
  },
  {
   "cell_type": "code",
   "execution_count": 37,
   "metadata": {},
   "outputs": [],
   "source": [
    "_hanford_chinook_df = allocate_runs(_hanford_chinook_df, run_schedules[\"mcnary\"])"
   ]
  },
  {
   "cell_type": "code",
   "execution_count": null,
   "metadata": {},
   "outputs": [],
   "source": [
    "_hanford_chinook_df['chinook_population'] = np.nan\n",
    "_hanford_chinook_df.head()"
   ]
  },
  {
   "cell_type": "code",
   "execution_count": 43,
   "metadata": {},
   "outputs": [],
   "source": [
    "for year in _hanford_chinook_df['year'].unique():\n",
    "    _hanford_chinook_df.loc[_hanford_chinook_df['year'] == year, 'chinook_population'] = _hanford_chinook_df.loc[_hanford_chinook_df['year'] == year, 'delta'].cumsum()"
   ]
  },
  {
   "cell_type": "code",
   "execution_count": 52,
   "metadata": {},
   "outputs": [],
   "source": [
    "_hanford_chinook_df['date'] = pd.to_datetime(_hanford_chinook_df['date'])"
   ]
  },
  {
   "cell_type": "code",
   "execution_count": null,
   "metadata": {},
   "outputs": [],
   "source": [
    "selected_year = 2013\n",
    "\n",
    "fig, (ax1, ax2) = plt.subplots(2, 1, sharex=True, figsize=(10, 7))\n",
    "_hanford_chinook_df[(_hanford_chinook_df['year'] == selected_year) & (_hanford_chinook_df['run'] == 'fall')].plot(x='date', y='mcnary', ax=ax1, label='Count at McNary')\n",
    "_hanford_chinook_df[(_hanford_chinook_df['year'] == selected_year) & (_hanford_chinook_df['run'] == 'fall')].plot(x='date', y='chinook_population', ax=ax1, label='Chinook Population')\n",
    "_hanford_chinook_df[(_hanford_chinook_df['year'] == selected_year) & (_hanford_chinook_df['run'] == 'fall')].plot(x='date', y='delta', ax=ax1, label='$\\Delta$ Chinook Population')\n",
    "ax1.axhline(0, color='black', linewidth=1)\n",
    "\n",
    "_hanford_chinook_df[(_hanford_chinook_df['year'] == selected_year) & (_hanford_chinook_df['run'] == 'fall')].plot(x='date', y='mean_temp', ax=ax2, label='Mean Temperature')\n",
    "ax2.axhline(20, color='black', linestyle='--')\n",
    "fig.tight_layout()"
   ]
  },
  {
   "cell_type": "code",
   "execution_count": null,
   "metadata": {},
   "outputs": [],
   "source": [
    "for year in _hanford_chinook_df['year'].unique():\n",
    "    selected_year = year\n",
    "    _hanford_chinook_df['date'] = pd.to_datetime(_hanford_chinook_df['date'])\n",
    "\n",
    "    fig, (ax1, ax2) = plt.subplots(2, 1, sharex=True, figsize=(9, 7))\n",
    "    _hanford_chinook_df[(_hanford_chinook_df['year'] == selected_year) & (_hanford_chinook_df['run'] == 'fall')].plot(x='date', y='mcnary', ax=ax1, label='Count at McNary')\n",
    "    _hanford_chinook_df[(_hanford_chinook_df['year'] == selected_year) & (_hanford_chinook_df['run'] == 'fall')].plot(x='date', y='chinook_population', ax=ax1, label='Chinook Population')\n",
    "    _hanford_chinook_df[(_hanford_chinook_df['year'] == selected_year) & (_hanford_chinook_df['run'] == 'fall')].plot(x='date', y='delta', ax=ax1, label='$\\Delta$ Chinook Population')\n",
    "    ax1.axhline(0, color='black', linewidth=1)\n",
    "    ax1.set_title(f'Fall Chinook population at Hanford Reach in {selected_year}')\n",
    "\n",
    "    _hanford_chinook_df[(_hanford_chinook_df['year'] == selected_year) & (_hanford_chinook_df['run'] == 'fall')].plot(x='date', y='mean_temp', ax=ax2, label='Mean Temperature')\n",
    "    ax2.axhline(20, color='black', linestyle='--')\n",
    "    \n",
    "    fig.tight_layout()\n",
    "    break"
   ]
  },
  {
   "cell_type": "code",
   "execution_count": null,
   "metadata": {},
   "outputs": [],
   "source": [
    "fig, ax = plt.subplots()\n",
    "_hanford_chinook_df[_hanford_chinook_df['run']== 'fall'].plot.scatter(x='mean_temp', y='percent_delta', ax=ax\n",
    "# , c='year', cmap='viridis'\n",
    ")\n",
    "ax.set_xlabel('Mean Temperature (C)')\n",
    "ax.set_ylabel('Change in Chinook Population')"
   ]
  },
  {
   "cell_type": "code",
   "execution_count": null,
   "metadata": {},
   "outputs": [],
   "source": [
    "fig, ax = plt.subplots()\n",
    "_hanford_chinook_df[_hanford_chinook_df['run']== 'fall'].plot.scatter(x='mean_temp', y='delta', ax=ax, c='year', cmap='viridis')\n",
    "ax.set_xlabel('Mean Temperature (C)')\n",
    "ax.set_ylabel('Change in Chinook Population')"
   ]
  },
  {
   "cell_type": "code",
   "execution_count": null,
   "metadata": {},
   "outputs": [],
   "source": [
    "_hanford_chinook_df[\n",
    "    (_hanford_chinook_df[\"run\"] == \"fall\") & (_hanford_chinook_df[\"year\"] == 2000)\n",
    "].plot(\n",
    "    x=\"mean_temp\",\n",
    "    y=\"delta\",\n",
    "    #  ax=ax,\n",
    "    # c=\"year\",\n",
    "    # cmap=\"viridis\",\n",
    ")"
   ]
  },
  {
   "cell_type": "code",
   "execution_count": null,
   "metadata": {},
   "outputs": [],
   "source": [
    "_grouped = hanford_chin"
   ]
  },
  {
   "cell_type": "code",
   "execution_count": null,
   "metadata": {},
   "outputs": [],
   "source": [
    "# for each year, find the population retained (cumsum of delta)\n",
    "\n",
    "for year in _hanford_chinook_df['year'].unique():\n",
    "    _hanford_chinook_df[_hanford_chinook_df['year']['population']] = _hanford_chinook_df[_hanford_chinook_df['year'] == year]['delta'].cumsum()"
   ]
  },
  {
   "cell_type": "code",
   "execution_count": null,
   "metadata": {},
   "outputs": [],
   "source": [
    "fig, (ax, ax1) = plt.subplots(2, 1, figsize=(10, 8), sharex=True)\n",
    "_hanford_chinook_df[_hanford_chinook_df['date'].dt.year == 2001].plot(x='date', y='mcnary', ax=ax, label='Count at McNary')\n",
    "_hanford_chinook_df[_hanford_chinook_df['date'].dt.year == 2001].plot(x='date', y='population', ax=ax, label='Chinook Population')\n",
    "_hanford_chinook_df[_hanford_chinook_df['date'].dt.year == 2001].plot(x='date', y='delta', ax=ax, label='$\\Delta$ Chinook Population')\n",
    "ax.axhline(0, color='black', linewidth=1)\n",
    "ax.set_title('Fall Chinook population at Hanford Reach in 2001')\n",
    "\n",
    "# ax1 = ax.twinx()\n",
    "hanford_reach_temp.plot(x='date', y='mean_temp', ax=ax1, label='Mean Temperature')\n",
    "# hanford_reach_temp.plot(x='date', y=630, ax=ax1, label='630')\n",
    "# ax1.axvline(pd.Timestamp(f'2001-10-15'), color='red', linestyle='--')\n",
    "# ax.axvline(pd.Timestamp(f'2001-10-15'), color='red', linestyle='--')\n",
    "\n",
    "ax1.axhline(20, color='black', linestyle='--')"
   ]
  },
  {
   "cell_type": "code",
   "execution_count": null,
   "metadata": {},
   "outputs": [],
   "source": [
    "_hanford_chinook_df[['mean_temp', 'delta']].cov()"
   ]
  },
  {
   "cell_type": "code",
   "execution_count": 303,
   "metadata": {},
   "outputs": [],
   "source": [
    "temp_duration_curve = pd.DataFrame()\n",
    "temp_duration_curve['mean_temp'] = _hanford_temp_df['mean_temp']\n",
    "\n",
    "temp_duration_curve.sort_values('mean_temp', inplace=True)\n",
    "temp_duration_curve['Rank'] = temp_duration_curve['mean_temp'].rank(ascending=False)\n",
    "\n",
    "temp_duration_curve['probability'] = temp_duration_curve['Rank'] / len(temp_duration_curve)"
   ]
  },
  {
   "cell_type": "code",
   "execution_count": null,
   "metadata": {},
   "outputs": [],
   "source": [
    "fig, ax = plt.subplots()\n",
    "ax.plot(temp_duration_curve['probability'], temp_duration_curve['mean_temp'], )\n",
    "# log axis for y\n",
    "# ax.set_yscale('log')\n",
    "ax.set_xlabel('Exceedance Probability')\n",
    "ax.set_ylabel('Temperature (C)')"
   ]
  },
  {
   "cell_type": "code",
   "execution_count": null,
   "metadata": {},
   "outputs": [],
   "source": [
    "fig, ax = plt.subplots()\n",
    "ax.scatter(_test['mean_temp'], _test['delta'])"
   ]
  }
 ],
 "metadata": {
  "kernelspec": {
   "display_name": "hydrothermal-history",
   "language": "python",
   "name": "python3"
  },
  "language_info": {
   "codemirror_mode": {
    "name": "ipython",
    "version": 3
   },
   "file_extension": ".py",
   "mimetype": "text/x-python",
   "name": "python",
   "nbconvert_exporter": "python",
   "pygments_lexer": "ipython3",
   "version": "3.11.4"
  }
 },
 "nbformat": 4,
 "nbformat_minor": 2
}
