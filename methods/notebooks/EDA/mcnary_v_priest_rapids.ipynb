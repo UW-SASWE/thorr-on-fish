{
 "cells": [
  {
   "cell_type": "code",
   "execution_count": null,
   "metadata": {},
   "outputs": [],
   "source": [
    "import pandas as pd\n",
    "from pathlib import Path\n",
    "import matplotlib.pyplot as plt\n",
    "import numpy as np"
   ]
  },
  {
   "cell_type": "code",
   "execution_count": 2,
   "metadata": {},
   "outputs": [],
   "source": [
    "proj_dir = Path(\"../../../\")"
   ]
  },
  {
   "cell_type": "code",
   "execution_count": 3,
   "metadata": {},
   "outputs": [],
   "source": [
    "mcnary_df = pd.read_csv(proj_dir / \"Data/insitu/fish/processed/DART_MCN.csv\")\n",
    "priest_rapids_df = pd.read_csv(proj_dir / \"Data/insitu/fish/processed/DART_PRD.csv\")\n",
    "prosser_df = pd.read_csv(proj_dir / \"Data/insitu/fish/processed/DART_PRO.csv\")\n",
    "ice_harbor_df = pd.read_csv(proj_dir / \"Data/insitu/fish/processed/DART_IHR.csv\")\n",
    "\n",
    "mcnary_df[\"date\"] = pd.to_datetime(mcnary_df[\"date\"])\n",
    "priest_rapids_df[\"date\"] = pd.to_datetime(priest_rapids_df[\"date\"])\n",
    "prosser_df[\"date\"] = pd.to_datetime(prosser_df[\"date\"])\n",
    "ice_harbor_df[\"date\"] = pd.to_datetime(ice_harbor_df[\"date\"])\n",
    "\n",
    "# resample to daily\n",
    "mcnary_df = mcnary_df.resample(\"D\", on=\"date\").mean().reset_index()\n",
    "priest_rapids_df = priest_rapids_df.resample(\"D\", on=\"date\").mean().reset_index()\n",
    "prosser_df = prosser_df.resample(\"D\", on=\"date\").mean().reset_index()\n",
    "ice_harbor_df = ice_harbor_df.resample(\"D\", on=\"date\").mean().reset_index()\n",
    "\n"
   ]
  },
  {
   "cell_type": "code",
   "execution_count": 4,
   "metadata": {},
   "outputs": [],
   "source": [
    "def annual_cumulative(df):\n",
    "    df[\"year\"] = df['date'].dt.year\n",
    "    df['day_of_year'] = df['date'].dt.dayofyear\n",
    "\n",
    "    grouped = df.groupby([\"year\"])\n",
    "    \n",
    "    for year, group in grouped:\n",
    "        group = group.fillna(0)\n",
    "        df.loc[group.index, \"cumulative\"] = group[\"chinook\"].cumsum()\n",
    "\n",
    "    return df\n"
   ]
  },
  {
   "cell_type": "code",
   "execution_count": null,
   "metadata": {},
   "outputs": [],
   "source": []
  },
  {
   "cell_type": "code",
   "execution_count": null,
   "metadata": {},
   "outputs": [],
   "source": [
    "\n",
    "mcnary_df2 = annual_cumulative(mcnary_df.fillna(0))\n",
    "mcnary_df2.reset_index(inplace=True)\n",
    "\n",
    "# plot 2015\n",
    "mcnary_df2_2015 = mcnary_df2[mcnary_df2[\"year\"] == 2015].copy()\n",
    "mcnary_df2_2015[\"day_of_year\"] = mcnary_df2_2015[\"date\"].dt.dayofyear\n",
    "\n",
    "plt.plot(mcnary_df2_2015[\"day_of_year\"], mcnary_df2_2015[\"cumulative\"])"
   ]
  },
  {
   "cell_type": "code",
   "execution_count": null,
   "metadata": {},
   "outputs": [],
   "source": [
    "\n",
    "priest_rapids_df2 = annual_cumulative(priest_rapids_df.fillna(0))\n",
    "priest_rapids_df2.reset_index(inplace=True)\n",
    "\n",
    "# plot 2015\n",
    "priest_rapids_df2_2015 = priest_rapids_df2[priest_rapids_df2[\"year\"] == 2015].copy()\n",
    "priest_rapids_df2_2015[\"day_of_year\"] = priest_rapids_df2_2015[\"date\"].dt.dayofyear\n",
    "\n",
    "plt.plot(priest_rapids_df2_2015[\"day_of_year\"], priest_rapids_df2_2015[\"cumulative\"])"
   ]
  },
  {
   "cell_type": "code",
   "execution_count": null,
   "metadata": {},
   "outputs": [],
   "source": [
    "fig, axs = plt.subplots(3, 2, figsize=(15, 7))\n",
    "\n",
    "axs[0, 0].plot(mcnary_df2_2015[\"day_of_year\"], mcnary_df2_2015[\"cumulative\"])\n",
    "axs[0, 0].set_title(\"McNary Dam\")\n",
    "\n",
    "# ax2 = axs[0, 0].twinx()\n",
    "axs[0, 1].plot(priest_rapids_df2_2015[\"day_of_year\"], priest_rapids_df2_2015[\"cumulative\"])\n",
    "# ax2.plot(priest_rapids_df2_2015[\"day_of_year\"], priest_rapids_df2_2015[\"cumulative\"])\n",
    "axs[0, 1].set_title(\"Priest Rapids Dam\")\n",
    "\n",
    "axs[1, 0].plot(mcnary_df2_2015[\"day_of_year\"], mcnary_df2_2015[\"chinook\"])\n",
    "axs[1, 1].plot(priest_rapids_df2_2015[\"day_of_year\"], priest_rapids_df2_2015[\"chinook\"])\n",
    "\n",
    "axs[2, 0].plot(mcnary_df2_2015[\"day_of_year\"], mcnary_df2_2015[\"avg_temp(C)\"])\n",
    "axs[2, 1].plot(priest_rapids_df2_2015[\"day_of_year\"], priest_rapids_df2_2015[\"avg_temp(C)\"])\n",
    "\n",
    "axs[0, 0].axvline(x=pd.to_datetime(\"2015-08-09\").dayofyear, color=\"red\", linestyle=\"--\")\n",
    "axs[0, 1].axvline(x=pd.to_datetime(\"2015-08-14\").dayofyear, color=\"red\", linestyle=\"--\")\n",
    "\n",
    "fig.tight_layout()"
   ]
  },
  {
   "cell_type": "code",
   "execution_count": null,
   "metadata": {},
   "outputs": [],
   "source": [
    "fig, ax = plt.subplots()\n",
    "ax.plot(\n",
    "    mcnary_df2_2015[\n",
    "        mcnary_df2_2015[\"day_of_year\"] >= pd.to_datetime(\"2015-08-09\").dayofyear\n",
    "    ][\"day_of_year\"],\n",
    "    mcnary_df2_2015[\n",
    "        mcnary_df2_2015[\"day_of_year\"] >= pd.to_datetime(\"2015-08-09\").dayofyear\n",
    "    ][\"cumulative\"],\n",
    "    label=\"McNary Dam\",\n",
    ")\n",
    "ax2 = ax.twinx()\n",
    "ax2.plot(\n",
    "    priest_rapids_df2_2015[\n",
    "        priest_rapids_df2_2015[\"day_of_year\"] >= pd.to_datetime(\"2015-08-14\").dayofyear\n",
    "    ][\"day_of_year\"],\n",
    "    priest_rapids_df2_2015[\n",
    "        priest_rapids_df2_2015[\"day_of_year\"] >= pd.to_datetime(\"2015-08-14\").dayofyear\n",
    "    ][\"cumulative\"],\n",
    "    label=\"Priest Rapids Dam\",\n",
    ")"
   ]
  },
  {
   "cell_type": "code",
   "execution_count": null,
   "metadata": {},
   "outputs": [],
   "source": [
    "fig, ax = plt.subplots()\n",
    "\n",
    "ax.plot(mcnary_df2_2015[\"day_of_year\"], mcnary_df2_2015[\"cumulative\"], label=\"McNary\")\n",
    "ax2= ax.twinx()\n",
    "ax2.plot(priest_rapids_df2_2015[\"day_of_year\"], priest_rapids_df2_2015[\"cumulative\"], label=\"Priest Rapids\", color=\"red\")\n",
    "\n",
    "# legend\n",
    "ax.legend(loc=\"upper left\")\n",
    "ax2.legend(loc=\"lower right\")"
   ]
  },
  {
   "cell_type": "code",
   "execution_count": 29,
   "metadata": {},
   "outputs": [],
   "source": [
    "mcnary_df2_2015['percent_cumulative'] = mcnary_df2_2015['cumulative'] / mcnary_df2_2015['cumulative'].max()\n",
    "priest_rapids_df2_2015['percent_cumulative'] = priest_rapids_df2_2015['cumulative'] / priest_rapids_df2_2015['cumulative'].max()"
   ]
  },
  {
   "cell_type": "code",
   "execution_count": null,
   "metadata": {},
   "outputs": [],
   "source": [
    "fig, ax = plt.subplots()\n",
    "\n",
    "ax.plot(mcnary_df2_2015[\"day_of_year\"], mcnary_df2_2015[\"percent_cumulative\"], label=\"McNary\")\n",
    "ax.plot(priest_rapids_df2_2015[\"day_of_year\"], priest_rapids_df2_2015[\"percent_cumulative\"], label=\"Priest Rapids\")"
   ]
  },
  {
   "cell_type": "code",
   "execution_count": null,
   "metadata": {},
   "outputs": [],
   "source": [
    "mcnary_df2_2015[mcnary_df2_2015['percent_cumulative']>=.05]"
   ]
  },
  {
   "cell_type": "code",
   "execution_count": null,
   "metadata": {},
   "outputs": [],
   "source": [
    "priest_rapids_df2_2015[priest_rapids_df2_2015['percent_cumulative']>=.05]"
   ]
  },
  {
   "cell_type": "code",
   "execution_count": null,
   "metadata": {},
   "outputs": [],
   "source": [
    "mcnary_df"
   ]
  },
  {
   "cell_type": "code",
   "execution_count": 27,
   "metadata": {},
   "outputs": [],
   "source": [
    "mcnary_2015_fall = mcnary_df[(mcnary_df['date']>='2015-08-01') & (mcnary_df['date']<='2015-11-30')].copy()\n",
    "priest_rapids_2015_fall = priest_rapids_df[(priest_rapids_df['date']>='2015-08-01') & (priest_rapids_df['date']<='2015-11-30')].copy()"
   ]
  },
  {
   "cell_type": "code",
   "execution_count": null,
   "metadata": {},
   "outputs": [],
   "source": [
    "mcnary_2015_fall=annual_cumulative(mcnary_2015_fall)\n",
    "priest_rapids_2015_fall=annual_cumulative(priest_rapids_2015_fall)"
   ]
  },
  {
   "cell_type": "code",
   "execution_count": 29,
   "metadata": {},
   "outputs": [],
   "source": [
    "mcnary_2015_fall['percent_cumulative'] = mcnary_2015_fall['cumulative'] / mcnary_2015_fall['cumulative'].max()\n",
    "priest_rapids_2015_fall['percent_cumulative'] = priest_rapids_2015_fall['cumulative'] / priest_rapids_2015_fall['cumulative'].max()"
   ]
  },
  {
   "cell_type": "code",
   "execution_count": null,
   "metadata": {},
   "outputs": [],
   "source": [
    "fig, ax = plt.subplots()\n",
    "\n",
    "ax.plot(mcnary_2015_fall[\"day_of_year\"], mcnary_2015_fall[\"cumulative\"], label=\"McNary\")\n",
    "ax2= ax.twinx()\n",
    "ax2.plot(priest_rapids_2015_fall[\"day_of_year\"], priest_rapids_2015_fall[\"cumulative\"], label=\"Priest Rapids\")"
   ]
  },
  {
   "cell_type": "code",
   "execution_count": 70,
   "metadata": {},
   "outputs": [],
   "source": [
    "priest_rapids_2015_fall['percent_cumulative2'] = priest_rapids_2015_fall['cumulative'] / mcnary_2015_fall['cumulative']"
   ]
  },
  {
   "cell_type": "code",
   "execution_count": null,
   "metadata": {},
   "outputs": [],
   "source": [
    "fig, ax = plt.subplots()\n",
    "\n",
    "ax.plot(mcnary_2015_fall[\"day_of_year\"], mcnary_2015_fall[\"percent_cumulative\"], label=\"McNary\")\n",
    "ax.plot(priest_rapids_2015_fall[\"day_of_year\"], priest_rapids_2015_fall[\"percent_cumulative\"], label=\"Priest Rapids\")\n",
    "ax.plot(priest_rapids_2015_fall[\"day_of_year\"], priest_rapids_2015_fall[\"percent_cumulative2\"], label=\"Priest Rapids\")"
   ]
  },
  {
   "cell_type": "code",
   "execution_count": null,
   "metadata": {},
   "outputs": [],
   "source": []
  }
 ],
 "metadata": {
  "kernelspec": {
   "display_name": "hydrothermal-history",
   "language": "python",
   "name": "python3"
  },
  "language_info": {
   "codemirror_mode": {
    "name": "ipython",
    "version": 3
   },
   "file_extension": ".py",
   "mimetype": "text/x-python",
   "name": "python",
   "nbconvert_exporter": "python",
   "pygments_lexer": "ipython3",
   "version": "3.11.4"
  }
 },
 "nbformat": 4,
 "nbformat_minor": 2
}
