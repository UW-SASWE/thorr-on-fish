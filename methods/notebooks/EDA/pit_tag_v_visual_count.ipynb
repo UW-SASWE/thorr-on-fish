{
 "cells": [
  {
   "cell_type": "code",
   "execution_count": null,
   "metadata": {},
   "outputs": [],
   "source": [
    "import pandas as pd\n",
    "import matplotlib.pyplot as plt"
   ]
  },
  {
   "cell_type": "code",
   "execution_count": 20,
   "metadata": {},
   "outputs": [],
   "source": [
    "visual_count_fn = \"adultmg_1717459045_963.csv\"\n",
    "pit_tag_fn = \"pitobsmg_1717458729_565.csv\"\n",
    "\n",
    "visual_count = pd.read_csv(visual_count_fn)\n",
    "pit_tag = pd.read_csv(pit_tag_fn)"
   ]
  },
  {
   "cell_type": "code",
   "execution_count": 21,
   "metadata": {},
   "outputs": [],
   "source": [
    "# combine year column and mm-dd column to create date\n",
    "visual_count[\"date\"] = visual_count[\"year\"].astype(str) + \"-\" + visual_count[\"mm-dd\"]\n",
    "pit_tag[\"date\"] = pit_tag[\"year\"].astype(str) + \"-\" + pit_tag[\"mm-dd\"]\n",
    "\n"
   ]
  },
  {
   "cell_type": "code",
   "execution_count": 22,
   "metadata": {},
   "outputs": [],
   "source": [
    "visual_count[\"date\"] = pd.to_datetime(visual_count[\"date\"])\n",
    "pit_tag[\"date\"] = pd.to_datetime(pit_tag[\"date\"])"
   ]
  },
  {
   "cell_type": "code",
   "execution_count": 23,
   "metadata": {},
   "outputs": [],
   "source": [
    "pit_tag.to_csv(pit_tag_fn, index=False)\n",
    "visual_count.to_csv(visual_count_fn, index=False)"
   ]
  },
  {
   "cell_type": "code",
   "execution_count": null,
   "metadata": {},
   "outputs": [],
   "source": [
    "fig, ax = plt.subplots(figsize=(7, 5), dpi=300)\n",
    "visual_count.plot(x=\"date\", y=\"value\", label=\"Visual Count\", ax=ax)\n",
    "ax.set_ylabel(\"Visual Count\")\n",
    "ax.legend(loc='upper left')\n",
    "ax.set_xlim(pd.to_datetime(\"2023-07-01\"), pd.to_datetime(\"2023-11-30\"))\n",
    "ax2 = ax.twinx()\n",
    "pit_tag.plot(x=\"date\", y=\"value\", label=\"PIT Tag\",c='red', ax=ax2, linestyle='--')\n",
    "ax2.legend(loc='upper right')\n",
    "ax2.set_ylim(0, 200)\n",
    "ax2.set_ylabel(\"PIT Tag Count\")\n",
    "ax2.set_xlim(pd.to_datetime(\"2023-07-01\"), pd.to_datetime(\"2023-11-30\"))\n",
    "ax.set_xlabel(\"Date\")\n",
    "fig.tight_layout()"
   ]
  },
  {
   "cell_type": "code",
   "execution_count": null,
   "metadata": {},
   "outputs": [],
   "source": []
  }
 ],
 "metadata": {
  "kernelspec": {
   "display_name": "hydrothermal-history",
   "language": "python",
   "name": "python3"
  },
  "language_info": {
   "codemirror_mode": {
    "name": "ipython",
    "version": 3
   },
   "file_extension": ".py",
   "mimetype": "text/x-python",
   "name": "python",
   "nbconvert_exporter": "python",
   "pygments_lexer": "ipython3",
   "version": "3.11.4"
  }
 },
 "nbformat": 4,
 "nbformat_minor": 2
}
